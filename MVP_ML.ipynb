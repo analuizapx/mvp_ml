{
  "cells": [
    {
      "cell_type": "markdown",
      "source": [
        "# MVP: Machine Learning & Analytics\n",
        "### Problema de Classificação com Machine Learning\n",
        "**Autor:**   Ana Luiza Peixoto\n",
        "\n",
        "**Data:** 27/08/2025\n",
        "\n",
        "**Matrícula:** 4052025001726\n",
        "\n",
        "**Dataset:** Global Coffee Dataset (https://www.kaggle.com/datasets/uom190346a/global-coffee-health-dataset.)\n",
        "\n",
        "`≈15⏱️ min`\n",
        "\n",
        "---\n"
      ],
      "metadata": {
        "id": "j2Tl7SQq_Wv_"
      }
    },
    {
      "cell_type": "markdown",
      "metadata": {
        "id": "9SCmo5bDviM3"
      },
      "source": [
        "# 1. Escopo, Objetivo e Definição do Problema\n",
        "## Contexto do Problema\n",
        "A qualidade do sono é um indicador fundamental da saúde humana, afetando diretamente o bem-estar físico e mental das pessoas. Com o crescimento do uso de dispositivos wearables que monitoram padrões de sono, existe uma oportunidade significativa para aplicar técnicas de machine learning na análise desses dados para compreender melhor os fatores que influenciam a qualidade do sono.\n",
        "\n",
        "Um dos aspectos mais relevantes neste contexto é o consumo de cafeína, especialmente através do café, uma das bebidas mais consumidas mundialmente. Embora seja amplamente reconhecido que a cafeína pode afetar o sono, a relação entre diferentes níveis de consumo, características individuais e qualidade do sono não é simples ou linear. Fatores como idade, índice de massa corporal, níveis de estresse, atividade física e condições de saúde interagem de forma complexa, criando padrões que podem não ser imediatamente óbvios para análise manual.\n",
        "\n",
        "##Definição do Problema\n",
        "Este projeto aborda um problema de classificação em machine learning: dado um conjunto de variáveis relacionadas ao estilo de vida, saúde e consumo de cafeína de uma pessoa, é possível prever sua qualidade de sono? A capacidade de fazer essa predição tem aplicações práticas em áreas como medicina preventiva, wellness corporativo e desenvolvimento de aplicativos de saúde.\n",
        "\n",
        "O problema é formulado como uma tarefa de classificação supervisionada multiclasse, onde o objetivo é classificar a qualidade do sono em quatro categorias: Poor (Ruim), Fair (Regular), Good (Bom) e Excellent (Excelente). As variáveis preditoras incluem dados demográficos, métricas de saúde física, padrões de consumo de cafeína, níveis de atividade física e indicadores de estresse.\n",
        "\n",
        "O valor prático dessa análise reside na possibilidade de identificar automaticamente quais fatores de estilo de vida têm maior impacto na qualidade do sono de um indivíduo. Isso pode orientar intervenções mais direcionadas e eficazes, seja em contextos clínicos, programas de bem-estar corporativo ou desenvolvimento de recomendações personalizadas em aplicações de saúde digital.\n",
        "\n",
        "## Hipotese\n",
        "Este trabalho é baseado na seguinte hipótese central:\n",
        "> A partir de dados de saúde, estilo de vida e características demográficas, é possível prever com precisão satisfatória a qualidade do sono de uma pessoa\n",
        "\n",
        "##Dataset\n",
        "\n",
        "Para este estudo, utilizamos o Global Coffee Dataset disponível no Kaggle, que contém 10.000 registros simulados de indivíduos de 20 países diferentes. O dataset integra informações sobre consumo de café, padrões de sono, indicadores de saúde e variáveis de estilo de vida. Embora seja um dataset sintético, foi construído para refletir correlações conhecidas na literatura médica sobre os fatores que influenciam a qualidade do sono.\n",
        "\n",
        "A escolha deste dataset se justifica pela dificuldade de encontrar dados reais que combinem a amplitude de variáveis necessárias para esta análise. O Global Coffee Dataset oferece a diversidade de variáveis e o tamanho amostral adequados para explorar técnicas de machine learning neste domínio. Sua usabilidade no Kaggle é 10.\n",
        "\n",
        "É fundamental reconhecer as limitações inerentes ao uso de dados sintéticos. Os métodos de geração não são completamente documentados, o que levanta questões sobre a fidelidade das correlações simuladas em relação aos padrões reais observados clinicamente. Contudo, para fins de desenvolvimento metodológico e exploração de técnicas de machine learning, o dataset fornece uma base apropriada para investigação.                                                \n",
        "\n",
        "---\n"
      ]
    },
    {
      "cell_type": "markdown",
      "metadata": {
        "id": "CjXpegpp0-pS"
      },
      "source": [
        "#2. Reprodutibilidade e Ambiente\n",
        "##Configuração do Ambiente"
      ]
    },
    {
      "cell_type": "code",
      "execution_count": 19,
      "metadata": {
        "id": "en8QF8i-o8E_"
      },
      "outputs": [],
      "source": [
        "import warnings\n",
        "warnings.filterwarnings(\"ignore\")\n",
        "\n",
        "import pandas as pd\n",
        "import numpy as np\n",
        "import matplotlib.pyplot as plt\n",
        "from sklearn.preprocessing import StandardScaler\n",
        "from sklearn.preprocessing import MinMaxScaler\n",
        "from sklearn.model_selection import train_test_split\n",
        "from sklearn.model_selection import KFold\n",
        "from sklearn.model_selection import cross_val_score\n",
        "from sklearn.neighbors import KNeighborsClassifier\n",
        "from sklearn.tree import DecisionTreeClassifier\n",
        "from sklearn.naive_bayes import GaussianNB\n",
        "from sklearn.svm import SVC\n",
        "from sklearn.preprocessing import LabelEncoder\n",
        "from sklearn.pipeline import Pipeline\n",
        "from sklearn.linear_model import LogisticRegression\n",
        "from sklearn.tree import DecisionTreeClassifier\n",
        "from sklearn.ensemble import BaggingClassifier\n",
        "from sklearn.ensemble import RandomForestClassifier\n",
        "from sklearn.ensemble import ExtraTreesClassifier\n",
        "from sklearn.ensemble import VotingClassifier\n",
        "from sklearn.ensemble import AdaBoostClassifier\n",
        "from sklearn.ensemble import GradientBoostingClassifier\n",
        "from sklearn.model_selection import GridSearchCV\n",
        "from sklearn.metrics import accuracy_score, classification_report, confusion_matrix"
      ]
    },
    {
      "cell_type": "markdown",
      "source": [
        "##3. Carga dos Dados"
      ],
      "metadata": {
        "id": "ebD2AZLFQ-fc"
      }
    },
    {
      "cell_type": "code",
      "execution_count": 20,
      "metadata": {
        "colab": {
          "base_uri": "https://localhost:8080/",
          "height": 226
        },
        "id": "BapImvvm0ZYh",
        "outputId": "a3e5b0e3-d539-43cf-d13f-3383a87bcd90"
      },
      "outputs": [
        {
          "output_type": "execute_result",
          "data": {
            "text/plain": [
              "   ID  Age  Gender  Country  Coffee_Intake  Caffeine_mg  Sleep_Hours  \\\n",
              "0   1   40    Male  Germany            3.5        328.1          7.5   \n",
              "1   2   33    Male  Germany            1.0         94.1          6.2   \n",
              "2   3   42    Male   Brazil            5.3        503.7          5.9   \n",
              "3   4   53    Male  Germany            2.6        249.2          7.3   \n",
              "4   5   32  Female    Spain            3.1        298.0          5.3   \n",
              "\n",
              "  Sleep_Quality   BMI  Heart_Rate Stress_Level  Physical_Activity_Hours  \\\n",
              "0          Good  24.9          78          Low                     14.5   \n",
              "1          Good  20.0          67          Low                     11.0   \n",
              "2          Fair  22.7          59       Medium                     11.2   \n",
              "3          Good  24.7          71          Low                      6.6   \n",
              "4          Fair  24.1          76       Medium                      8.5   \n",
              "\n",
              "  Health_Issues Occupation  Smoking  Alcohol_Consumption  \n",
              "0           NaN      Other        0                    0  \n",
              "1           NaN    Service        0                    0  \n",
              "2          Mild     Office        0                    0  \n",
              "3          Mild      Other        0                    0  \n",
              "4          Mild    Student        0                    1  "
            ],
            "text/html": [
              "\n",
              "  <div id=\"df-2a0b1965-ef96-4251-a975-e24660b68be3\" class=\"colab-df-container\">\n",
              "    <div>\n",
              "<style scoped>\n",
              "    .dataframe tbody tr th:only-of-type {\n",
              "        vertical-align: middle;\n",
              "    }\n",
              "\n",
              "    .dataframe tbody tr th {\n",
              "        vertical-align: top;\n",
              "    }\n",
              "\n",
              "    .dataframe thead th {\n",
              "        text-align: right;\n",
              "    }\n",
              "</style>\n",
              "<table border=\"1\" class=\"dataframe\">\n",
              "  <thead>\n",
              "    <tr style=\"text-align: right;\">\n",
              "      <th></th>\n",
              "      <th>ID</th>\n",
              "      <th>Age</th>\n",
              "      <th>Gender</th>\n",
              "      <th>Country</th>\n",
              "      <th>Coffee_Intake</th>\n",
              "      <th>Caffeine_mg</th>\n",
              "      <th>Sleep_Hours</th>\n",
              "      <th>Sleep_Quality</th>\n",
              "      <th>BMI</th>\n",
              "      <th>Heart_Rate</th>\n",
              "      <th>Stress_Level</th>\n",
              "      <th>Physical_Activity_Hours</th>\n",
              "      <th>Health_Issues</th>\n",
              "      <th>Occupation</th>\n",
              "      <th>Smoking</th>\n",
              "      <th>Alcohol_Consumption</th>\n",
              "    </tr>\n",
              "  </thead>\n",
              "  <tbody>\n",
              "    <tr>\n",
              "      <th>0</th>\n",
              "      <td>1</td>\n",
              "      <td>40</td>\n",
              "      <td>Male</td>\n",
              "      <td>Germany</td>\n",
              "      <td>3.5</td>\n",
              "      <td>328.1</td>\n",
              "      <td>7.5</td>\n",
              "      <td>Good</td>\n",
              "      <td>24.9</td>\n",
              "      <td>78</td>\n",
              "      <td>Low</td>\n",
              "      <td>14.5</td>\n",
              "      <td>NaN</td>\n",
              "      <td>Other</td>\n",
              "      <td>0</td>\n",
              "      <td>0</td>\n",
              "    </tr>\n",
              "    <tr>\n",
              "      <th>1</th>\n",
              "      <td>2</td>\n",
              "      <td>33</td>\n",
              "      <td>Male</td>\n",
              "      <td>Germany</td>\n",
              "      <td>1.0</td>\n",
              "      <td>94.1</td>\n",
              "      <td>6.2</td>\n",
              "      <td>Good</td>\n",
              "      <td>20.0</td>\n",
              "      <td>67</td>\n",
              "      <td>Low</td>\n",
              "      <td>11.0</td>\n",
              "      <td>NaN</td>\n",
              "      <td>Service</td>\n",
              "      <td>0</td>\n",
              "      <td>0</td>\n",
              "    </tr>\n",
              "    <tr>\n",
              "      <th>2</th>\n",
              "      <td>3</td>\n",
              "      <td>42</td>\n",
              "      <td>Male</td>\n",
              "      <td>Brazil</td>\n",
              "      <td>5.3</td>\n",
              "      <td>503.7</td>\n",
              "      <td>5.9</td>\n",
              "      <td>Fair</td>\n",
              "      <td>22.7</td>\n",
              "      <td>59</td>\n",
              "      <td>Medium</td>\n",
              "      <td>11.2</td>\n",
              "      <td>Mild</td>\n",
              "      <td>Office</td>\n",
              "      <td>0</td>\n",
              "      <td>0</td>\n",
              "    </tr>\n",
              "    <tr>\n",
              "      <th>3</th>\n",
              "      <td>4</td>\n",
              "      <td>53</td>\n",
              "      <td>Male</td>\n",
              "      <td>Germany</td>\n",
              "      <td>2.6</td>\n",
              "      <td>249.2</td>\n",
              "      <td>7.3</td>\n",
              "      <td>Good</td>\n",
              "      <td>24.7</td>\n",
              "      <td>71</td>\n",
              "      <td>Low</td>\n",
              "      <td>6.6</td>\n",
              "      <td>Mild</td>\n",
              "      <td>Other</td>\n",
              "      <td>0</td>\n",
              "      <td>0</td>\n",
              "    </tr>\n",
              "    <tr>\n",
              "      <th>4</th>\n",
              "      <td>5</td>\n",
              "      <td>32</td>\n",
              "      <td>Female</td>\n",
              "      <td>Spain</td>\n",
              "      <td>3.1</td>\n",
              "      <td>298.0</td>\n",
              "      <td>5.3</td>\n",
              "      <td>Fair</td>\n",
              "      <td>24.1</td>\n",
              "      <td>76</td>\n",
              "      <td>Medium</td>\n",
              "      <td>8.5</td>\n",
              "      <td>Mild</td>\n",
              "      <td>Student</td>\n",
              "      <td>0</td>\n",
              "      <td>1</td>\n",
              "    </tr>\n",
              "  </tbody>\n",
              "</table>\n",
              "</div>\n",
              "    <div class=\"colab-df-buttons\">\n",
              "\n",
              "  <div class=\"colab-df-container\">\n",
              "    <button class=\"colab-df-convert\" onclick=\"convertToInteractive('df-2a0b1965-ef96-4251-a975-e24660b68be3')\"\n",
              "            title=\"Convert this dataframe to an interactive table.\"\n",
              "            style=\"display:none;\">\n",
              "\n",
              "  <svg xmlns=\"http://www.w3.org/2000/svg\" height=\"24px\" viewBox=\"0 -960 960 960\">\n",
              "    <path d=\"M120-120v-720h720v720H120Zm60-500h600v-160H180v160Zm220 220h160v-160H400v160Zm0 220h160v-160H400v160ZM180-400h160v-160H180v160Zm440 0h160v-160H620v160ZM180-180h160v-160H180v160Zm440 0h160v-160H620v160Z\"/>\n",
              "  </svg>\n",
              "    </button>\n",
              "\n",
              "  <style>\n",
              "    .colab-df-container {\n",
              "      display:flex;\n",
              "      gap: 12px;\n",
              "    }\n",
              "\n",
              "    .colab-df-convert {\n",
              "      background-color: #E8F0FE;\n",
              "      border: none;\n",
              "      border-radius: 50%;\n",
              "      cursor: pointer;\n",
              "      display: none;\n",
              "      fill: #1967D2;\n",
              "      height: 32px;\n",
              "      padding: 0 0 0 0;\n",
              "      width: 32px;\n",
              "    }\n",
              "\n",
              "    .colab-df-convert:hover {\n",
              "      background-color: #E2EBFA;\n",
              "      box-shadow: 0px 1px 2px rgba(60, 64, 67, 0.3), 0px 1px 3px 1px rgba(60, 64, 67, 0.15);\n",
              "      fill: #174EA6;\n",
              "    }\n",
              "\n",
              "    .colab-df-buttons div {\n",
              "      margin-bottom: 4px;\n",
              "    }\n",
              "\n",
              "    [theme=dark] .colab-df-convert {\n",
              "      background-color: #3B4455;\n",
              "      fill: #D2E3FC;\n",
              "    }\n",
              "\n",
              "    [theme=dark] .colab-df-convert:hover {\n",
              "      background-color: #434B5C;\n",
              "      box-shadow: 0px 1px 3px 1px rgba(0, 0, 0, 0.15);\n",
              "      filter: drop-shadow(0px 1px 2px rgba(0, 0, 0, 0.3));\n",
              "      fill: #FFFFFF;\n",
              "    }\n",
              "  </style>\n",
              "\n",
              "    <script>\n",
              "      const buttonEl =\n",
              "        document.querySelector('#df-2a0b1965-ef96-4251-a975-e24660b68be3 button.colab-df-convert');\n",
              "      buttonEl.style.display =\n",
              "        google.colab.kernel.accessAllowed ? 'block' : 'none';\n",
              "\n",
              "      async function convertToInteractive(key) {\n",
              "        const element = document.querySelector('#df-2a0b1965-ef96-4251-a975-e24660b68be3');\n",
              "        const dataTable =\n",
              "          await google.colab.kernel.invokeFunction('convertToInteractive',\n",
              "                                                    [key], {});\n",
              "        if (!dataTable) return;\n",
              "\n",
              "        const docLinkHtml = 'Like what you see? Visit the ' +\n",
              "          '<a target=\"_blank\" href=https://colab.research.google.com/notebooks/data_table.ipynb>data table notebook</a>'\n",
              "          + ' to learn more about interactive tables.';\n",
              "        element.innerHTML = '';\n",
              "        dataTable['output_type'] = 'display_data';\n",
              "        await google.colab.output.renderOutput(dataTable, element);\n",
              "        const docLink = document.createElement('div');\n",
              "        docLink.innerHTML = docLinkHtml;\n",
              "        element.appendChild(docLink);\n",
              "      }\n",
              "    </script>\n",
              "  </div>\n",
              "\n",
              "\n",
              "    <div id=\"df-871e9463-6e38-4d8c-b9d0-d4f9e8d0d2e2\">\n",
              "      <button class=\"colab-df-quickchart\" onclick=\"quickchart('df-871e9463-6e38-4d8c-b9d0-d4f9e8d0d2e2')\"\n",
              "                title=\"Suggest charts\"\n",
              "                style=\"display:none;\">\n",
              "\n",
              "<svg xmlns=\"http://www.w3.org/2000/svg\" height=\"24px\"viewBox=\"0 0 24 24\"\n",
              "     width=\"24px\">\n",
              "    <g>\n",
              "        <path d=\"M19 3H5c-1.1 0-2 .9-2 2v14c0 1.1.9 2 2 2h14c1.1 0 2-.9 2-2V5c0-1.1-.9-2-2-2zM9 17H7v-7h2v7zm4 0h-2V7h2v10zm4 0h-2v-4h2v4z\"/>\n",
              "    </g>\n",
              "</svg>\n",
              "      </button>\n",
              "\n",
              "<style>\n",
              "  .colab-df-quickchart {\n",
              "      --bg-color: #E8F0FE;\n",
              "      --fill-color: #1967D2;\n",
              "      --hover-bg-color: #E2EBFA;\n",
              "      --hover-fill-color: #174EA6;\n",
              "      --disabled-fill-color: #AAA;\n",
              "      --disabled-bg-color: #DDD;\n",
              "  }\n",
              "\n",
              "  [theme=dark] .colab-df-quickchart {\n",
              "      --bg-color: #3B4455;\n",
              "      --fill-color: #D2E3FC;\n",
              "      --hover-bg-color: #434B5C;\n",
              "      --hover-fill-color: #FFFFFF;\n",
              "      --disabled-bg-color: #3B4455;\n",
              "      --disabled-fill-color: #666;\n",
              "  }\n",
              "\n",
              "  .colab-df-quickchart {\n",
              "    background-color: var(--bg-color);\n",
              "    border: none;\n",
              "    border-radius: 50%;\n",
              "    cursor: pointer;\n",
              "    display: none;\n",
              "    fill: var(--fill-color);\n",
              "    height: 32px;\n",
              "    padding: 0;\n",
              "    width: 32px;\n",
              "  }\n",
              "\n",
              "  .colab-df-quickchart:hover {\n",
              "    background-color: var(--hover-bg-color);\n",
              "    box-shadow: 0 1px 2px rgba(60, 64, 67, 0.3), 0 1px 3px 1px rgba(60, 64, 67, 0.15);\n",
              "    fill: var(--button-hover-fill-color);\n",
              "  }\n",
              "\n",
              "  .colab-df-quickchart-complete:disabled,\n",
              "  .colab-df-quickchart-complete:disabled:hover {\n",
              "    background-color: var(--disabled-bg-color);\n",
              "    fill: var(--disabled-fill-color);\n",
              "    box-shadow: none;\n",
              "  }\n",
              "\n",
              "  .colab-df-spinner {\n",
              "    border: 2px solid var(--fill-color);\n",
              "    border-color: transparent;\n",
              "    border-bottom-color: var(--fill-color);\n",
              "    animation:\n",
              "      spin 1s steps(1) infinite;\n",
              "  }\n",
              "\n",
              "  @keyframes spin {\n",
              "    0% {\n",
              "      border-color: transparent;\n",
              "      border-bottom-color: var(--fill-color);\n",
              "      border-left-color: var(--fill-color);\n",
              "    }\n",
              "    20% {\n",
              "      border-color: transparent;\n",
              "      border-left-color: var(--fill-color);\n",
              "      border-top-color: var(--fill-color);\n",
              "    }\n",
              "    30% {\n",
              "      border-color: transparent;\n",
              "      border-left-color: var(--fill-color);\n",
              "      border-top-color: var(--fill-color);\n",
              "      border-right-color: var(--fill-color);\n",
              "    }\n",
              "    40% {\n",
              "      border-color: transparent;\n",
              "      border-right-color: var(--fill-color);\n",
              "      border-top-color: var(--fill-color);\n",
              "    }\n",
              "    60% {\n",
              "      border-color: transparent;\n",
              "      border-right-color: var(--fill-color);\n",
              "    }\n",
              "    80% {\n",
              "      border-color: transparent;\n",
              "      border-right-color: var(--fill-color);\n",
              "      border-bottom-color: var(--fill-color);\n",
              "    }\n",
              "    90% {\n",
              "      border-color: transparent;\n",
              "      border-bottom-color: var(--fill-color);\n",
              "    }\n",
              "  }\n",
              "</style>\n",
              "\n",
              "      <script>\n",
              "        async function quickchart(key) {\n",
              "          const quickchartButtonEl =\n",
              "            document.querySelector('#' + key + ' button');\n",
              "          quickchartButtonEl.disabled = true;  // To prevent multiple clicks.\n",
              "          quickchartButtonEl.classList.add('colab-df-spinner');\n",
              "          try {\n",
              "            const charts = await google.colab.kernel.invokeFunction(\n",
              "                'suggestCharts', [key], {});\n",
              "          } catch (error) {\n",
              "            console.error('Error during call to suggestCharts:', error);\n",
              "          }\n",
              "          quickchartButtonEl.classList.remove('colab-df-spinner');\n",
              "          quickchartButtonEl.classList.add('colab-df-quickchart-complete');\n",
              "        }\n",
              "        (() => {\n",
              "          let quickchartButtonEl =\n",
              "            document.querySelector('#df-871e9463-6e38-4d8c-b9d0-d4f9e8d0d2e2 button');\n",
              "          quickchartButtonEl.style.display =\n",
              "            google.colab.kernel.accessAllowed ? 'block' : 'none';\n",
              "        })();\n",
              "      </script>\n",
              "    </div>\n",
              "\n",
              "    </div>\n",
              "  </div>\n"
            ],
            "application/vnd.google.colaboratory.intrinsic+json": {
              "type": "dataframe",
              "variable_name": "dataset",
              "summary": "{\n  \"name\": \"dataset\",\n  \"rows\": 10000,\n  \"fields\": [\n    {\n      \"column\": \"ID\",\n      \"properties\": {\n        \"dtype\": \"number\",\n        \"std\": 2886,\n        \"min\": 1,\n        \"max\": 10000,\n        \"num_unique_values\": 10000,\n        \"samples\": [\n          6253,\n          4685,\n          1732\n        ],\n        \"semantic_type\": \"\",\n        \"description\": \"\"\n      }\n    },\n    {\n      \"column\": \"Age\",\n      \"properties\": {\n        \"dtype\": \"number\",\n        \"std\": 11,\n        \"min\": 18,\n        \"max\": 80,\n        \"num_unique_values\": 59,\n        \"samples\": [\n          40,\n          44,\n          48\n        ],\n        \"semantic_type\": \"\",\n        \"description\": \"\"\n      }\n    },\n    {\n      \"column\": \"Gender\",\n      \"properties\": {\n        \"dtype\": \"category\",\n        \"num_unique_values\": 3,\n        \"samples\": [\n          \"Male\",\n          \"Female\",\n          \"Other\"\n        ],\n        \"semantic_type\": \"\",\n        \"description\": \"\"\n      }\n    },\n    {\n      \"column\": \"Country\",\n      \"properties\": {\n        \"dtype\": \"category\",\n        \"num_unique_values\": 20,\n        \"samples\": [\n          \"Germany\",\n          \"India\",\n          \"USA\"\n        ],\n        \"semantic_type\": \"\",\n        \"description\": \"\"\n      }\n    },\n    {\n      \"column\": \"Coffee_Intake\",\n      \"properties\": {\n        \"dtype\": \"number\",\n        \"std\": 1.450247609518068,\n        \"min\": 0.0,\n        \"max\": 8.2,\n        \"num_unique_values\": 78,\n        \"samples\": [\n          1.1,\n          3.5,\n          0.9\n        ],\n        \"semantic_type\": \"\",\n        \"description\": \"\"\n      }\n    },\n    {\n      \"column\": \"Caffeine_mg\",\n      \"properties\": {\n        \"dtype\": \"number\",\n        \"std\": 137.74881462057328,\n        \"min\": 0.0,\n        \"max\": 780.3,\n        \"num_unique_values\": 4277,\n        \"samples\": [\n          281.1,\n          3.7,\n          217.2\n        ],\n        \"semantic_type\": \"\",\n        \"description\": \"\"\n      }\n    },\n    {\n      \"column\": \"Sleep_Hours\",\n      \"properties\": {\n        \"dtype\": \"number\",\n        \"std\": 1.2220554216341164,\n        \"min\": 3.0,\n        \"max\": 10.0,\n        \"num_unique_values\": 71,\n        \"samples\": [\n          4.8,\n          7.5,\n          9.5\n        ],\n        \"semantic_type\": \"\",\n        \"description\": \"\"\n      }\n    },\n    {\n      \"column\": \"Sleep_Quality\",\n      \"properties\": {\n        \"dtype\": \"category\",\n        \"num_unique_values\": 4,\n        \"samples\": [\n          \"Fair\",\n          \"Poor\",\n          \"Good\"\n        ],\n        \"semantic_type\": \"\",\n        \"description\": \"\"\n      }\n    },\n    {\n      \"column\": \"BMI\",\n      \"properties\": {\n        \"dtype\": \"number\",\n        \"std\": 3.9064113128720503,\n        \"min\": 15.0,\n        \"max\": 38.2,\n        \"num_unique_values\": 220,\n        \"samples\": [\n          22.9,\n          32.5,\n          27.3\n        ],\n        \"semantic_type\": \"\",\n        \"description\": \"\"\n      }\n    },\n    {\n      \"column\": \"Heart_Rate\",\n      \"properties\": {\n        \"dtype\": \"number\",\n        \"std\": 9,\n        \"min\": 50,\n        \"max\": 109,\n        \"num_unique_values\": 58,\n        \"samples\": [\n          78,\n          82,\n          52\n        ],\n        \"semantic_type\": \"\",\n        \"description\": \"\"\n      }\n    },\n    {\n      \"column\": \"Stress_Level\",\n      \"properties\": {\n        \"dtype\": \"category\",\n        \"num_unique_values\": 3,\n        \"samples\": [\n          \"Low\",\n          \"Medium\",\n          \"High\"\n        ],\n        \"semantic_type\": \"\",\n        \"description\": \"\"\n      }\n    },\n    {\n      \"column\": \"Physical_Activity_Hours\",\n      \"properties\": {\n        \"dtype\": \"number\",\n        \"std\": 4.315179963363283,\n        \"min\": 0.0,\n        \"max\": 15.0,\n        \"num_unique_values\": 151,\n        \"samples\": [\n          6.7,\n          7.8,\n          12.7\n        ],\n        \"semantic_type\": \"\",\n        \"description\": \"\"\n      }\n    },\n    {\n      \"column\": \"Health_Issues\",\n      \"properties\": {\n        \"dtype\": \"category\",\n        \"num_unique_values\": 3,\n        \"samples\": [\n          \"Mild\",\n          \"Moderate\",\n          \"Severe\"\n        ],\n        \"semantic_type\": \"\",\n        \"description\": \"\"\n      }\n    },\n    {\n      \"column\": \"Occupation\",\n      \"properties\": {\n        \"dtype\": \"category\",\n        \"num_unique_values\": 5,\n        \"samples\": [\n          \"Service\",\n          \"Healthcare\",\n          \"Office\"\n        ],\n        \"semantic_type\": \"\",\n        \"description\": \"\"\n      }\n    },\n    {\n      \"column\": \"Smoking\",\n      \"properties\": {\n        \"dtype\": \"number\",\n        \"std\": 0,\n        \"min\": 0,\n        \"max\": 1,\n        \"num_unique_values\": 2,\n        \"samples\": [\n          1,\n          0\n        ],\n        \"semantic_type\": \"\",\n        \"description\": \"\"\n      }\n    },\n    {\n      \"column\": \"Alcohol_Consumption\",\n      \"properties\": {\n        \"dtype\": \"number\",\n        \"std\": 0,\n        \"min\": 0,\n        \"max\": 1,\n        \"num_unique_values\": 2,\n        \"samples\": [\n          1,\n          0\n        ],\n        \"semantic_type\": \"\",\n        \"description\": \"\"\n      }\n    }\n  ]\n}"
            }
          },
          "metadata": {},
          "execution_count": 20
        }
      ],
      "source": [
        "\n",
        "dataset = pd.read_csv(\"https://raw.githubusercontent.com/analuizapx/mvp_ml/main/coffee_health.csv\")\n",
        "dataset.head()"
      ]
    },
    {
      "cell_type": "markdown",
      "source": [
        "###Estrutura do Dataset\n",
        "\n",
        "| Column                    | Descrição                                                                 |\n",
        "|----------------------------|---------------------------------------------------------------------------|\n",
        "| ID  (DELETADO)                       | Identificador único do registro (1–10000)                                |\n",
        "| Age                        | Idade do participante (18–80 anos)                                       |\n",
        "| Gender                     | Masculino, Feminino, Outro                                               |\n",
        "| Country                    | País de residência (20 países)                                           |\n",
        "| Coffee_Intake              | Consumo diário de café em xícaras (0–10)                                 |\n",
        "| Caffeine_mg                | Estimativa de consumo diário de cafeína em mg (1 xícara ≈ 95 mg)         |\n",
        "| Sleep_Hours (DELETADO)               | Média de horas de sono por noite (3–10 horas)                            |\n",
        "| Sleep_Quality (TARGET)             | Ruim, Regular, Boa, Excelente           |\n",
        "| BMI                        | Índice de Massa Corporal (15–40)                                         |\n",
        "| Heart_Rate                 | Frequência cardíaca em repouso (50–110 bpm)                              |\n",
        "| Stress_Level               | Baixo, Médio, Alto         |\n",
        "| Physical_Activity_Hours    | Atividade física semanal (0–15 horas)                                    |\n",
        "| Health_Issues              | Nenhum, Leve, Moderado, Grave              |\n",
        "| Occupation                 | Escritório, Saúde, Estudante, Serviços, Outro                            |\n",
        "| Smoking                    | 0 = Não, 1 = Sim                                                         |\n",
        "| Alcohol_Consumption        | 0 = Não, 1 = Sim         \n",
        "\n",
        "---"
      ],
      "metadata": {
        "id": "kXfYs-6Zclt4"
      }
    },
    {
      "cell_type": "markdown",
      "source": [
        "#4. Definição do Target, Variáveis e Divisão dos Dados\n",
        "## Pré-processamento de Variáveis Categóricas\n",
        "\n",
        "\n",
        "Como explicado anteriormente, a variavél a ser usada como **target é Sleep_Quality**.\n",
        "\n",
        "Para o tratamento das variáveis categóricas neste dataset, optamos pelo **Label Encoding** devido à natureza mista das variáveis e considerações práticas de implementação. Algumas variáveis como Sleep_Quality (Poor→0, Fair→1, Good→2, Excellent→3), Stress_Level (Low→0, Medium→1, High→2) e Health_Issues (None→0, Mild→1, Moderate→2, Severe→3) possuem ordem natural clara, tornando o Label Encoding a escolha ideal para preservar essas relações ordinais. Para variáveis nominais como Gender, Country e Occupation, embora One-Hot Encoding seria teoricamente mais apropriado, escolhemos Label Encoding por simplicidade e para evitar o aumento da dimensionalidade. Esta abordagem permite que os algoritmos processem todas as variáveis categóricas de forma consistente, embora reconheçamos que isso pode introduzir relações ordinais artificiais em variáveis nominais como Country (20 países codificados de 0-19) e Gender.\n",
        "\n",
        "A variável **Sleep_Hours foi estrategicamente removida** para evitar vazamento de dados (data leakage), pois a quantidade de horas dormidas está diretamente relacionada à qualidade do sono, podendo artificialmente inflar a performance do modelo. Nossa análise foca em fatores de estilo de vida que podem ser modificados independentemente da quantidade final de sono obtida. Houve também a **remoção da variável ID** por não ter valor preditivo\n"
      ],
      "metadata": {
        "id": "L3J4wNoCUgb9"
      }
    },
    {
      "cell_type": "code",
      "execution_count": 21,
      "metadata": {
        "id": "rLe6oxfy-emt"
      },
      "outputs": [],
      "source": [
        "le = LabelEncoder()\n",
        "categorical_columns = ['Gender','Country','Sleep_Quality', 'Stress_Level', 'Health_Issues', 'Occupation']\n",
        "\n",
        "for col in categorical_columns:\n",
        "    if col in dataset.columns:\n",
        "        dataset[col] = le.fit_transform(dataset[col])\n",
        "\n",
        "# Remover colunas desnecessárias (ID e Sleep_Hours)\n",
        "dataset = dataset.drop(['ID', 'Sleep_Hours'], axis=1)\n"
      ]
    },
    {
      "cell_type": "markdown",
      "source": [
        "##Divisão dos Dados"
      ],
      "metadata": {
        "id": "HGfHAAHnacjB"
      }
    },
    {
      "cell_type": "code",
      "source": [
        "# Separação em bases de treino e target\n",
        "X = dataset.drop('Sleep_Quality', axis=1).values # todas as colunas exceto Sleep_Quality\n",
        "y = dataset['Sleep_Quality'].values # coluna Sleep_Quality\n",
        "\n",
        "test_size = 0.20 # tamanho do conjunto de teste\n",
        "seed = 7 # semente aleatória\n",
        "\n",
        "X_train, X_test, y_train, y_test = train_test_split(X, y,\n",
        "    test_size=test_size, shuffle=True, random_state=seed, stratify=y) # holdout com estratificação\n",
        "\n",
        "# Criando os folds para a validação cruzada\n",
        "scoring = 'accuracy'\n",
        "num_particoes = 10 # número de folds da validação cruzada\n",
        "kfold = KFold(n_splits=num_particoes, shuffle=True, random_state=7) # faz o particionamento em 10 folds"
      ],
      "metadata": {
        "id": "z-QecJCLaDE8"
      },
      "execution_count": 22,
      "outputs": []
    },
    {
      "cell_type": "markdown",
      "metadata": {
        "id": "XeThkmQFfkGU"
      },
      "source": [
        "**Justificativa dos Parâmetros:**\n",
        "\n",
        "* **test_size=0.20:** Reserva suficiente para avaliação final sem comprometer o treino\n",
        "*  **stratify=y:** Mantém a proporção das classes nos conjuntos de treino e teste\n",
        "*  **random_state=7:** Garantia de reprodutibilidade\n",
        "*  **10-fold CV:** Padrão para validação robusta com dataset de tamanho moderado\n",
        "\n",
        "---"
      ]
    },
    {
      "cell_type": "markdown",
      "source": [
        "#5. Baseline e Modelos Candidatos\n",
        "##Estratégia de Modelagem\n",
        "Como não sabemos antecipadamente quais algoritmos performarão bem neste conjunto de dados, utilizaremos validação cruzada para treinar e avaliar múltiplos modelos usando a métrica acurácia. Começamos com configurações padrão de hiperparâmetros da scikit-learn. Serão usados os modelos vistos no material didático do curso."
      ],
      "metadata": {
        "id": "BUVFaBRKbvuV"
      }
    },
    {
      "cell_type": "code",
      "execution_count": 23,
      "metadata": {
        "id": "NxjDcmF3EkZd"
      },
      "outputs": [],
      "source": [
        "# Definindo uma seed global para esta célula de código\n",
        "np.random.seed(7)\n",
        "\n",
        "# Listas para armazenar os modelos, os resultados e os nomes dos modelos\n",
        "models = []\n",
        "results = []\n",
        "names = []\n",
        "\n",
        "# Preparando os modelos e adicionando-os em uma lista\n",
        "models.append(('KNN', KNeighborsClassifier()))\n",
        "models.append(('CART', DecisionTreeClassifier()))\n",
        "models.append(('NB', GaussianNB()))\n",
        "models.append(('SVM', SVC()))\n",
        "\n",
        "# Definindo os parâmetros do classificador base para o BaggingClassifier\n",
        "base = DecisionTreeClassifier()\n",
        "num_trees = 100\n",
        "max_features = 3\n",
        "\n",
        "# Criando os modelos para o VotingClassifier\n",
        "bases = []\n",
        "model1 = LogisticRegression(max_iter=200)\n",
        "bases.append(('logistic', model1))\n",
        "model2 = DecisionTreeClassifier()\n",
        "bases.append(('cart', model2))\n",
        "model3 = SVC()\n",
        "bases.append(('svm', model3))\n",
        "\n",
        "# Criando os ensembles e adicionando-os na lista de modelos\n",
        "#BaggingClassifier in your scikit-learn version uses estimator instead of base_estimator\n",
        "models.append(('Bagging', BaggingClassifier(estimator=base, n_estimators=num_trees)))\n",
        "models.append(('RF', RandomForestClassifier(n_estimators=num_trees, max_features=max_features)))\n",
        "models.append(('ET', ExtraTreesClassifier(n_estimators=num_trees, max_features=max_features)))\n",
        "models.append(('Ada', AdaBoostClassifier(n_estimators=num_trees)))\n",
        "models.append(('GB', GradientBoostingClassifier(n_estimators=num_trees)))\n",
        "models.append(('Voting', VotingClassifier(bases)))"
      ]
    },
    {
      "cell_type": "markdown",
      "source": [
        "#6. Treino e Avaliação dos Modelos\n",
        "##Avaliação com Configurações Padrão"
      ],
      "metadata": {
        "id": "qzHry5CHrd28"
      }
    },
    {
      "cell_type": "code",
      "source": [
        "# Listas para armazenar os resultados\n",
        "results = []\n",
        "names = []\n",
        "\n",
        "# Avaliação dos modelos\n",
        "for name, model in models:\n",
        "    cv_results = cross_val_score(model, X_train, y_train, cv=kfold, scoring=scoring)\n",
        "    results.append(cv_results)\n",
        "    names.append(name)\n",
        "    msg = \"%s: %f (%f)\" % (name, cv_results.mean(), cv_results.std()) # média e desvio padrão dos 10 resultados da validação cruzada\n",
        "    print(msg)\n",
        "\n",
        "\n",
        "# Boxplot de comparação dos modelos\n",
        "fig = plt.figure(figsize=(15,10))\n",
        "fig.suptitle('Comparação dos Modelos')\n",
        "ax = fig.add_subplot(111)\n",
        "plt.boxplot(results)\n",
        "ax.set_xticklabels(names)\n",
        "plt.show()"
      ],
      "metadata": {
        "id": "BR3xx8YOrXux",
        "colab": {
          "base_uri": "https://localhost:8080/",
          "height": 1000
        },
        "outputId": "d4677042-a41d-488e-dcc8-8468be70b4df"
      },
      "execution_count": 24,
      "outputs": [
        {
          "output_type": "stream",
          "name": "stdout",
          "text": [
            "KNN: 0.495000 (0.014164)\n",
            "CART: 0.781250 (0.013276)\n",
            "NB: 0.864750 (0.007391)\n",
            "SVM: 0.563625 (0.011503)\n",
            "Bagging: 0.861125 (0.007674)\n",
            "RF: 0.863750 (0.007786)\n",
            "ET: 0.863125 (0.007315)\n",
            "Ada: 0.768625 (0.011018)\n",
            "GB: 0.863750 (0.008043)\n",
            "Voting: 0.817000 (0.010250)\n"
          ]
        },
        {
          "output_type": "display_data",
          "data": {
            "text/plain": [
              "<Figure size 1500x1000 with 1 Axes>"
            ],
            "image/png": "[encoded data removed]"
          },
          "metadata": {}
        }
      ]
    },
    {
      "cell_type": "markdown",
      "metadata": {
        "id": "V5c8QgAaGF40"
      },
      "source": [
        "**Análise dos Resultados Iniciais:**\n",
        "A análise inicial revela que o Naive Bayes obteve a melhor performance (~86.48%), seguido de perto pelos métodos ensemble. Esta performance superior do Naive Bayes pode ser atribuída à natureza das variáveis do dataset e à assumpção de independência condicional que, apesar de simplista, parece apropriada para este domínio específico.\n",
        "\n",
        "\n",
        "\n",
        "---\n",
        "\n"
      ]
    },
    {
      "cell_type": "markdown",
      "metadata": {
        "id": "Q94RHuvLjwNy"
      },
      "source": [
        "## 7. Avaliação com Pipeline, Normalização e Padronização\n",
        "`≈⏱️10 min`\n",
        "\n",
        "Em seguida, vamos repetir esse processo, utilizando a biblioteca Pipeline para criar e avaliar os modelos através da validação cruzada com os dados padronizados e normalizados (evitando o data leakage) e comparar o seu resultado com os modelos treinados com o dataset original:"
      ]
    },
    {
      "cell_type": "code",
      "execution_count": 25,
      "metadata": {
        "colab": {
          "base_uri": "https://localhost:8080/",
          "height": 978
        },
        "id": "WbHucPZBj31K",
        "outputId": "28d7cbc4-1f4a-4e6f-b1da-0eb84b2f21cc"
      },
      "outputs": [
        {
          "output_type": "stream",
          "name": "stdout",
          "text": [
            "KNN-orig: 0.495 (0.014)\n",
            "CART-orig: 0.781 (0.013)\n",
            "NB-orig: 0.865 (0.007)\n",
            "SVM-orig: 0.564 (0.012)\n",
            "Bag-orig: 0.861 (0.008)\n",
            "RF-orig: 0.864 (0.008)\n",
            "ET-orig: 0.863 (0.007)\n",
            "Ada-orig: 0.769 (0.011)\n",
            "GB-orig: 0.864 (0.008)\n",
            "Vot-orig: 0.817 (0.010)\n",
            "KNN-padr: 0.837 (0.010)\n",
            "CART-padr: 0.783 (0.010)\n",
            "NB-padr: 0.865 (0.007)\n",
            "SVM-padr: 0.865 (0.007)\n",
            "Bag-padr: 0.861 (0.007)\n",
            "RF-padr: 0.863 (0.008)\n",
            "ET-padr: 0.863 (0.008)\n",
            "Ada-padr: 0.769 (0.011)\n",
            "GB-padr: 0.864 (0.008)\n",
            "Vot-padr: 0.865 (0.007)\n",
            "KNN-norm: 0.843 (0.008)\n",
            "CART-norm: 0.782 (0.012)\n",
            "NB-norm: 0.865 (0.007)\n",
            "SVM-norm: 0.865 (0.007)\n",
            "Bag-norm: 0.860 (0.009)\n",
            "RF-norm: 0.863 (0.007)\n",
            "ET-norm: 0.862 (0.007)\n",
            "Ada-norm: 0.769 (0.011)\n",
            "GB-norm: 0.864 (0.008)\n",
            "Vot-norm: 0.865 (0.007)\n"
          ]
        },
        {
          "output_type": "display_data",
          "data": {
            "text/plain": [
              "<Figure size 2500x600 with 1 Axes>"
            ],
            "image/png": "[encoded data removed]"
          },
          "metadata": {}
        }
      ],
      "source": [
        "np.random.seed(7) # definindo uma semente global para este bloco\n",
        "\n",
        "# Listas para armazenar os armazenar os pipelines e os resultados para todas as visões do dataset\n",
        "pipelines = []\n",
        "results = []\n",
        "names = []\n",
        "\n",
        "\n",
        "# Criando os elementos do pipeline\n",
        "\n",
        "# Algoritmos que serão utilizados\n",
        "knn = ('KNN', KNeighborsClassifier())\n",
        "cart = ('CART', DecisionTreeClassifier())\n",
        "naive_bayes = ('NB', GaussianNB())\n",
        "svm = ('SVM', SVC())\n",
        "bagging = ('Bag', BaggingClassifier(estimator=base, n_estimators=num_trees))\n",
        "random_forest = ('RF', RandomForestClassifier(n_estimators=num_trees, max_features=max_features))\n",
        "extra_trees = ('ET', ExtraTreesClassifier(n_estimators=num_trees, max_features=max_features))\n",
        "adaboost = ('Ada', AdaBoostClassifier(n_estimators=num_trees))\n",
        "gradient_boosting = ('GB', GradientBoostingClassifier(n_estimators=num_trees))\n",
        "voting = ('Voting', VotingClassifier(bases))\n",
        "\n",
        "# Transformações que serão utilizadas\n",
        "standard_scaler = ('StandardScaler', StandardScaler())\n",
        "min_max_scaler = ('MinMaxScaler', MinMaxScaler())\n",
        "\n",
        "\n",
        "# Montando os pipelines\n",
        "\n",
        "# Dataset original\n",
        "pipelines.append(('KNN-orig', Pipeline([knn])))\n",
        "pipelines.append(('CART-orig', Pipeline([cart])))\n",
        "pipelines.append(('NB-orig', Pipeline([naive_bayes])))\n",
        "pipelines.append(('SVM-orig', Pipeline([svm])))\n",
        "pipelines.append(('Bag-orig', Pipeline([bagging])))\n",
        "pipelines.append(('RF-orig', Pipeline([random_forest])))\n",
        "pipelines.append(('ET-orig', Pipeline([extra_trees])))\n",
        "pipelines.append(('Ada-orig', Pipeline([adaboost])))\n",
        "pipelines.append(('GB-orig', Pipeline([gradient_boosting])))\n",
        "pipelines.append(('Vot-orig', Pipeline([voting])))\n",
        "\n",
        "# Dataset Padronizado\n",
        "pipelines.append(('KNN-padr', Pipeline([standard_scaler, knn])))\n",
        "pipelines.append(('CART-padr', Pipeline([standard_scaler, cart])))\n",
        "pipelines.append(('NB-padr', Pipeline([standard_scaler, naive_bayes])))\n",
        "pipelines.append(('SVM-padr', Pipeline([standard_scaler, svm])))\n",
        "pipelines.append(('Bag-padr', Pipeline([standard_scaler, bagging])))\n",
        "pipelines.append(('RF-padr', Pipeline([standard_scaler, random_forest])))\n",
        "pipelines.append(('ET-padr', Pipeline([standard_scaler, extra_trees])))\n",
        "pipelines.append(('Ada-padr', Pipeline([standard_scaler, adaboost])))\n",
        "pipelines.append(('GB-padr', Pipeline([standard_scaler, gradient_boosting])))\n",
        "pipelines.append(('Vot-padr', Pipeline([standard_scaler, voting])))\n",
        "\n",
        "# Dataset Normalizado\n",
        "pipelines.append(('KNN-norm', Pipeline([min_max_scaler, knn])))\n",
        "pipelines.append(('CART-norm', Pipeline([min_max_scaler, cart])))\n",
        "pipelines.append(('NB-norm', Pipeline([min_max_scaler, naive_bayes])))\n",
        "pipelines.append(('SVM-norm', Pipeline([min_max_scaler, svm])))\n",
        "pipelines.append(('Bag-norm', Pipeline([min_max_scaler, bagging])))\n",
        "pipelines.append(('RF-norm', Pipeline([min_max_scaler, random_forest])))\n",
        "pipelines.append(('ET-norm', Pipeline([min_max_scaler, extra_trees])))\n",
        "pipelines.append(('Ada-norm', Pipeline([min_max_scaler, adaboost])))\n",
        "pipelines.append(('GB-norm', Pipeline([min_max_scaler, gradient_boosting])))\n",
        "pipelines.append(('Vot-norm', Pipeline([min_max_scaler, voting])))\n",
        "\n",
        "# Executando os pipelines\n",
        "for name, model in pipelines:\n",
        "    cv_results = cross_val_score(model, X_train, y_train, cv=kfold, scoring=scoring)\n",
        "    results.append(cv_results)\n",
        "    names.append(name)\n",
        "    msg = \"%s: %.3f (%.3f)\" % (name, cv_results.mean(), cv_results.std()) # formatando para 3 casas decimais\n",
        "    print(msg)\n",
        "\n",
        "# Boxplot de comparação dos modelos\n",
        "fig = plt.figure(figsize=(25,6))\n",
        "fig.suptitle('Comparação dos Modelos - Dataset orginal, padronizado e normalizado')\n",
        "ax = fig.add_subplot(111)\n",
        "plt.boxplot(results)\n",
        "ax.set_xticklabels(names, rotation=90)\n",
        "plt.show()"
      ]
    },
    {
      "cell_type": "markdown",
      "source": [
        "**Principais Descobertas**:\n",
        "A análise dos resultados com diferentes transformações revela padrões importantes sobre como cada algoritmo responde à normalização. KNN mostra melhoria dramática com normalização devido à sua dependência de métricas de distância, enquanto SVM também beneficia significativamente da padronização. Algoritmos baseados em árvore (Random Forest, Decision Tree) mostram pouca sensibilidade às transformações, como esperado teoricamente.\n",
        "\n",
        "\n",
        "\n",
        "---\n",
        "\n"
      ],
      "metadata": {
        "id": "51JiJWebtMby"
      }
    },
    {
      "cell_type": "markdown",
      "metadata": {
        "id": "6AA1nSJJqt9u"
      },
      "source": [
        "#8. Otimização de Hiperparâmetros\n",
        "##K-Nearest Neighbors (KNN)\n",
        "**Justificativa:** KNN mostrou o maior potencial de melhoria com normalização e possui hiperparâmetros relativamente simples, tornando a otimização computacionalmente eficiente."
      ]
    },
    {
      "cell_type": "code",
      "execution_count": 26,
      "metadata": {
        "colab": {
          "base_uri": "https://localhost:8080/"
        },
        "id": "Z90_6l5asL48",
        "outputId": "1e42122d-8837-45fd-fb3f-fcfacd2d61eb"
      },
      "outputs": [
        {
          "output_type": "stream",
          "name": "stdout",
          "text": [
            "Sem tratamento de missings: knn-orig - Melhor: 0.625750 usando {'KNN__metric': 'manhattan', 'KNN__n_neighbors': 13}\n",
            "Sem tratamento de missings: knn-padr - Melhor: 0.862625 usando {'KNN__metric': 'manhattan', 'KNN__n_neighbors': 21}\n",
            "Sem tratamento de missings: knn-norm - Melhor: 0.862625 usando {'KNN__metric': 'manhattan', 'KNN__n_neighbors': 21}\n"
          ]
        }
      ],
      "source": [
        "\n",
        "np.random.seed(7) # definindo uma semente global para este bloco\n",
        "\n",
        "pipelines = []\n",
        "\n",
        "# Definindo os componentes do pipeline\n",
        "knn = ('KNN', KNeighborsClassifier())\n",
        "standard_scaler = ('StandardScaler', StandardScaler())\n",
        "min_max_scaler = ('MinMaxScaler', MinMaxScaler())\n",
        "\n",
        "pipelines.append(('knn-orig', Pipeline(steps=[knn])))\n",
        "pipelines.append(('knn-padr', Pipeline(steps=[standard_scaler, knn])))\n",
        "pipelines.append(('knn-norm', Pipeline(steps=[min_max_scaler, knn])))\n",
        "\n",
        "param_grid = {\n",
        "    'KNN__n_neighbors': [1,3,5,7,9,11,13,15,17,19,21],\n",
        "    'KNN__metric': [\"euclidean\", \"manhattan\", \"minkowski\"],\n",
        "}\n",
        "\n",
        "# Prepara e executa o GridSearchCV\n",
        "for name, model in pipelines:\n",
        "    grid = GridSearchCV(estimator=model, param_grid=param_grid, scoring=scoring, cv=kfold)\n",
        "    grid.fit(X_train, y_train)\n",
        "    # imprime a melhor configuração\n",
        "    print(\"Sem tratamento de missings: %s - Melhor: %f usando %s\" % (name, grid.best_score_, grid.best_params_))"
      ]
    },
    {
      "cell_type": "markdown",
      "metadata": {
        "id": "0tQ5HrQU7H5V"
      },
      "source": [
        "Otimizando os parametros, a acurácia do KNN melhorou muito chegando a ficar bem próximo do melhor algoritmo até agora (0.865)"
      ]
    },
    {
      "cell_type": "markdown",
      "metadata": {
        "id": "vJRCG9MkvFqS"
      },
      "source": [
        "## Naive Bayers\n",
        "\n",
        "É o algoritmo que teve o melhor resultado e ele tem poucos hiperparametros, então a otimização é rápida."
      ]
    },
    {
      "cell_type": "code",
      "execution_count": 27,
      "metadata": {
        "colab": {
          "base_uri": "https://localhost:8080/"
        },
        "id": "2SHXb7mUvct4",
        "outputId": "88188c4f-9344-4f25-f662-069c165d4ce0"
      },
      "outputs": [
        {
          "output_type": "stream",
          "name": "stdout",
          "text": [
            "nb-orig - Melhor: 0.864750 usando {'NB__var_smoothing': 1e-09}\n",
            "nb-padr - Melhor: 0.864750 usando {'NB__var_smoothing': 1e-09}\n",
            "nb-norm - Melhor: 0.864750 usando {'NB__var_smoothing': 1e-09}\n"
          ]
        }
      ],
      "source": [
        "np.random.seed(7)\n",
        "\n",
        "pipelines_nb = []\n",
        "\n",
        "nb = ('NB', GaussianNB())\n",
        "standard_scaler = ('StandardScaler', StandardScaler())\n",
        "min_max_scaler = ('MinMaxScaler', MinMaxScaler())\n",
        "\n",
        "pipelines_nb.append(('nb-orig', Pipeline(steps=[nb])))\n",
        "pipelines_nb.append(('nb-padr', Pipeline(steps=[standard_scaler, nb])))\n",
        "pipelines_nb.append(('nb-norm', Pipeline(steps=[min_max_scaler, nb])))\n",
        "\n",
        "param_grid_nb = {\n",
        "    'NB__var_smoothing': [1e-9, 1e-8, 1e-7, 1e-6, 1e-5, 1e-4, 1e-3, 1e-2, 1e-1]\n",
        "}\n",
        "\n",
        "for name, model in pipelines_nb:\n",
        "    grid = GridSearchCV(estimator=model, param_grid=param_grid_nb, scoring='accuracy', cv=kfold, n_jobs=-1)\n",
        "    grid.fit(X_train, y_train)\n",
        "    print(f\"{name} - Melhor: {grid.best_score_:.6f} usando {grid.best_params_}\")\n",
        "\n"
      ]
    },
    {
      "cell_type": "markdown",
      "metadata": {
        "id": "44VUCrhk7g2-"
      },
      "source": [
        "A otimização não gerou melhorias significativas (86.48% mantido).\n"
      ]
    },
    {
      "cell_type": "markdown",
      "metadata": {
        "id": "AQ0J3PPQ5x1t"
      },
      "source": [
        "##SVM\n",
        "\n",
        "Escolhi testar o SVM porque ele foi um dos melhores resultados com os dados normalizados.\n",
        "Eu não vou por o executável desse algoritmo por que demorou 26 minutos para rodar e não gerou uma acurácia melhor. Foi usado RandomizedSearchCV por questões de eficiência computacional devido ao tamanho muito grande do espaço de busca de hiperparâmetros (ja retirei-o dos imports).\n",
        "\n",
        "Esse foi o código utilizado:\n",
        "```\n",
        "pipelines_svm = []\n",
        "svm = ('SVM', SVC())\n",
        "\n",
        "pipelines_svm.append(('svm-padr', Pipeline(steps=[standard_scaler, svm])))\n",
        "pipelines_svm.append(('svm-norm', Pipeline(steps=[min_max_scaler, svm])))\n",
        "\n",
        "# Grid mais completo para SVM\n",
        "param_grid_svm = {\n",
        "    'SVM__C': [0.1, 1, 10, 100],\n",
        "    'SVM__kernel': ['rbf', 'poly', 'sigmoid'],\n",
        "    'SVM__gamma': ['scale', 'auto', 0.001, 0.01, 0.1, 1]\n",
        "}\n",
        "\n",
        "for name, model in pipelines_svm:\n",
        "    # Usando RandomizedSearchCV para ser mais eficiente\n",
        "    grid = RandomizedSearchCV(estimator=model, param_distributions=param_grid_svm,\n",
        "                             scoring='accuracy', cv=kfold, n_iter=20, n_jobs=-1, random_state=7)\n",
        "    grid.fit(X_train, y_train)\n",
        "    print(f\"{name} - Melhor: {grid.best_score_:.6f} usando {grid.best_params_}\")\n",
        "```\n",
        "\n",
        "O output:\n",
        "\n",
        "\n",
        "```\n",
        "svm-padr - Melhor: 0.864750 usando {'SVM__kernel': 'rbf', 'SVM__gamma': 'auto', 'SVM__C': 1}\n",
        "svm-norm - Melhor: 0.864750 usando {'SVM__kernel': 'rbf', 'SVM__gamma': 'auto', 'SVM__C': 1}\n",
        "```\n",
        "\n",
        "\n",
        "\n"
      ]
    },
    {
      "cell_type": "markdown",
      "metadata": {
        "id": "bgudcC2BC6Wo"
      },
      "source": [
        "##Gradient Booster\n",
        "\n",
        "Escolhi testar o Gradient Booster porque ele foi um dos melhores resultados.\n",
        "Novamente eu não vou por o executável desse código porque ele demorou 12 min para executar e não teve uma acurácia melhor. Também foi usado RandomizedSearchCV pelos mesmos motivos.\n",
        "Esse foi o código utilizado:\n",
        "\n",
        "```\n",
        "pipelines_gb = []\n",
        "gb = ('GB', GradientBoostingClassifier(random_state=7))\n",
        "\n",
        "pipelines_gb.append(('gb-orig', Pipeline(steps=[gb])))\n",
        "pipelines_gb.append(('gb-padr', Pipeline(steps=[standard_scaler, gb])))\n",
        "\n",
        "param_grid_gb = {\n",
        "    'GB__n_estimators': [50, 100, 200],\n",
        "    'GB__learning_rate': [0.01, 0.1, 0.2],\n",
        "    'GB__max_depth': [3, 5, 7],\n",
        "    'GB__subsample': [0.8, 0.9, 1.0],\n",
        "    'GB__max_features': ['sqrt', 'log2', None]\n",
        "}\n",
        "\n",
        "for name, model in pipelines_gb:\n",
        "    # Usando RandomizedSearchCV devido ao grande espaço de busca\n",
        "    grid = RandomizedSearchCV(estimator=model, param_distributions=param_grid_gb,\n",
        "                             scoring='accuracy', cv=kfold, n_iter=30, n_jobs=-1, random_state=7)\n",
        "    grid.fit(X_train, y_train)\n",
        "    print(f\"{name} - Melhor: {grid.best_score_:.6f} usando {grid.best_params_}\")\n",
        "```\n",
        "O output foi:\n",
        "\n",
        "\n",
        "\n",
        "```\n",
        "gb-orig - Melhor: 0.864750 usando {'GB__subsample': 0.8, 'GB__n_estimators': 100, 'GB__max_features': 'sqrt', 'GB__max_depth': 3, 'GB__learning_rate': 0.01}\n",
        "gb-padr - Melhor: 0.864750 usando {'GB__subsample': 0.8, 'GB__n_estimators': 100, 'GB__max_features': 'sqrt', 'GB__max_depth': 3, 'GB__learning_rate': 0.01}\n",
        "```\n",
        "\n",
        "Concluimos que a otimização de parametros não gerou um resultado melhor para o Gradiente Booster\n",
        "\n",
        "\n",
        "---\n",
        "\n",
        "\n"
      ]
    },
    {
      "cell_type": "markdown",
      "source": [
        "##9. Finalização do Modelo\n",
        "\n",
        "Os modelos que apresentaram a maior **acurácia foi a de 0.865**. Dentre deles, o mais rápido e mais simples de executar é o **Naive Bayers** usando o dataset **original**. Por isso vamos usar ele para criar um modelo com todo o conjunto de treino."
      ],
      "metadata": {
        "id": "TaLSoyl9YMBo"
      }
    },
    {
      "cell_type": "code",
      "source": [
        "# Criando um modelo com todo o conjunto de treino\n",
        "model = GaussianNB()\n",
        "model.fit(X_train, y_train)\n",
        "\n",
        "# Fazendo as predições com o conjunto de teste\n",
        "predictions = model.predict(X_test)\n",
        "\n",
        "# Estimando a acurácia no conjunto de teste\n",
        "print(accuracy_score(y_test, predictions))"
      ],
      "metadata": {
        "colab": {
          "base_uri": "https://localhost:8080/"
        },
        "id": "0UFS5-zhYRCA",
        "outputId": "183551d3-f78e-41f4-d9ec-1a9c3a553a11"
      },
      "execution_count": 28,
      "outputs": [
        {
          "output_type": "stream",
          "name": "stdout",
          "text": [
            "0.865\n"
          ]
        }
      ]
    },
    {
      "cell_type": "markdown",
      "source": [
        "A acurácia final, testando com todo conjunto de treino é 0.865\n",
        "\n",
        "## Outras métricas e matriz de confusão\n"
      ],
      "metadata": {
        "id": "MKeixlgoEakn"
      }
    },
    {
      "cell_type": "code",
      "source": [
        "# Relatório detalhado\n",
        "target_names = ['Poor', 'Fair', 'Good', 'Excellent']\n",
        "print(classification_report(y_test, predictions, target_names=target_names))\n",
        "\n",
        "# Matriz de confusão\n",
        "from sklearn.metrics import confusion_matrix\n",
        "import seaborn as sns\n",
        "\n",
        "cm = confusion_matrix(y_test, predictions)\n",
        "plt.figure(figsize=(8, 6))\n",
        "sns.heatmap(cm, annot=True, fmt='d', cmap='Blues',\n",
        "            xticklabels=target_names,\n",
        "            yticklabels=target_names)\n",
        "plt.title('Matriz de Confusão')\n",
        "plt.ylabel('Valores Reais')\n",
        "plt.xlabel('Predições')\n",
        "plt.show()"
      ],
      "metadata": {
        "colab": {
          "base_uri": "https://localhost:8080/",
          "height": 760
        },
        "id": "H5c7LDNUavAI",
        "outputId": "be2afc31-9ea7-4bd1-d441-70866d1a8295"
      },
      "execution_count": 29,
      "outputs": [
        {
          "output_type": "stream",
          "name": "stdout",
          "text": [
            "              precision    recall  f1-score   support\n",
            "\n",
            "        Poor       0.00      0.00      0.00       270\n",
            "        Fair       1.00      1.00      1.00       410\n",
            "        Good       0.81      1.00      0.89      1128\n",
            "   Excellent       1.00      1.00      1.00       192\n",
            "\n",
            "    accuracy                           0.86      2000\n",
            "   macro avg       0.70      0.75      0.72      2000\n",
            "weighted avg       0.76      0.86      0.80      2000\n",
            "\n"
          ]
        },
        {
          "output_type": "display_data",
          "data": {
            "text/plain": [
              "<Figure size 800x600 with 2 Axes>"
            ],
            "image/png": "[encoded data removed]"
          },
          "metadata": {}
        }
      ]
    },
    {
      "cell_type": "markdown",
      "source": [
        "A matriz de confusão revela uma performance sólida com 86% de acurácia, mas com um padrão específico de erros: o modelo demonstra precisão perfeita para as classes Fair e Excellent, classificando corretamente todas as amostras dessas categorias. No entanto, apresenta um viés para a classe Good, tendendo a classificar casos incertos nesta categoria intermediária. Embora mantenha 100% de precisão para Good (quando prediz esta classe, sempre acerta), o recall é de 89%, indicando que algumas amostras de outras classes são incorretamente classificadas como Good."
      ],
      "metadata": {
        "id": "VlIfziANFZYK"
      }
    },
    {
      "cell_type": "code",
      "source": [
        "# Curvas de aprendizado\n",
        "from sklearn.model_selection import learning_curve\n",
        "\n",
        "train_sizes, train_scores, val_scores = learning_curve(\n",
        "    GaussianNB(), X_train, y_train, cv=5, n_jobs=-1,\n",
        "    train_sizes=np.linspace(0.1, 1.0, 10))\n",
        "\n",
        "train_mean = np.mean(train_scores, axis=1)\n",
        "val_mean = np.mean(val_scores, axis=1)\n",
        "\n",
        "plt.figure(figsize=(10, 6))\n",
        "plt.plot(train_sizes, train_mean, 'o-', label='Treino')\n",
        "plt.plot(train_sizes, val_mean, 'o-', label='Validação')\n",
        "plt.xlabel('Tamanho do Conjunto de Treino')\n",
        "plt.ylabel('Acurácia')\n",
        "plt.title('Curvas de Aprendizado')\n",
        "plt.legend()\n",
        "plt.grid(True)\n",
        "plt.show()\n",
        "\n",
        "gap_final = train_mean[-1] - val_mean[-1]\n",
        "print(f\"Gap treino-validação: {gap_final:.4f}\")\n",
        "if gap_final < 0.05:\n",
        "    print(\"✓ Baixo risco de overfitting\")"
      ],
      "metadata": {
        "colab": {
          "base_uri": "https://localhost:8080/",
          "height": 600
        },
        "id": "xUuFCRCEa2YA",
        "outputId": "113ef493-bd7c-489a-a44d-40df3e67e5e4"
      },
      "execution_count": 30,
      "outputs": [
        {
          "output_type": "display_data",
          "data": {
            "text/plain": [
              "<Figure size 1000x600 with 1 Axes>"
            ],
            "image/png": "[encoded data removed]"
          },
          "metadata": {}
        },
        {
          "output_type": "stream",
          "name": "stdout",
          "text": [
            "Gap treino-validação: 0.0003\n",
            "✓ Baixo risco de overfitting\n"
          ]
        }
      ]
    },
    {
      "cell_type": "markdown",
      "source": [
        "Observamos um baixo risco de overfitting pelo que foi apresentado no gráfico"
      ],
      "metadata": {
        "id": "Olm5_WjfFsrc"
      }
    },
    {
      "cell_type": "markdown",
      "source": [
        "##Simulando a aplicação do modelo em dados não vistos\n",
        "\n"
      ],
      "metadata": {
        "id": "vKlVZKUViEF6"
      }
    },
    {
      "cell_type": "code",
      "source": [
        "data = {'Age': [25, 50, 40],\n",
        "        'Gender': [0, 1, 0],  # Male=0, Female=1\n",
        "        'Country': [0, 10, 10],\n",
        "        'Coffee_Intake': [2.0, 6.0, 1.5],\n",
        "        'Caffeine_mg': [190.0, 870.0, 142.5],\n",
        "        'BMI': [22.5, 30.0, 26.0],\n",
        "        'Heart_Rate': [70, 95, 75],\n",
        "        'Stress_Level': [0, 2, 1],  # Low=0, Medium=1, High=2\n",
        "        'Physical_Activity_Hours': [5.0, 0.0, 3.0],\n",
        "        'Health_Issues': [0, 3, 1],  # None=0, Mild=1, Moderate=2, Severe=3\n",
        "        'Occupation': [2, 1, 0],\n",
        "        'Smoking': [0, 1, 0],\n",
        "        'Alcohol_Consumption': [0, 1, 0]\n",
        "}\n",
        "\n",
        "atributos = ['Age', 'Gender', 'Country', 'Coffee_Intake', 'Caffeine_mg', 'BMI', 'Heart_Rate',\n",
        "             'Stress_Level', 'Physical_Activity_Hours', 'Health_Issues', 'Occupation',\n",
        "             'Smoking', 'Alcohol_Consumption']\n",
        "\n",
        "entrada = pd.DataFrame(data, columns=atributos)\n",
        "array_entrada = entrada.values\n",
        "\n",
        "# Para Naive Bayes original, não precisamos padronizar\n",
        "# Fazendo a predição\n",
        "predictions = model.predict(array_entrada)\n",
        "\n",
        "# Mapeamento das classes para interpretação\n",
        "quality_mapping = {0: 'Poor', 1: 'Fair', 2: 'Good', 3: 'Excellent'}\n",
        "\n",
        "print(\"Predições:\")\n",
        "for i, pred in enumerate(predictions):\n",
        "    print(f\"Paciente {i+1}: {quality_mapping[pred]}\")"
      ],
      "metadata": {
        "id": "uHi2QopmiS-m",
        "colab": {
          "base_uri": "https://localhost:8080/"
        },
        "outputId": "126d229f-7740-43b2-b91e-f64e3276ed02"
      },
      "execution_count": 31,
      "outputs": [
        {
          "output_type": "stream",
          "name": "stdout",
          "text": [
            "Predições:\n",
            "Paciente 1: Excellent\n",
            "Paciente 2: Fair\n",
            "Paciente 3: Good\n"
          ]
        }
      ]
    },
    {
      "cell_type": "markdown",
      "source": [
        "**Resultados**: Paciente 1 (jovem, ativo): Excellent; Paciente 2 (alto consumo cafeína, sedentário): Fair; Paciente 3 (perfil médio): Good. As predições parecem verossímeis.\n"
      ],
      "metadata": {
        "id": "A8CDTjYN4VzN"
      }
    }
  ],
  "metadata": {
    "colab": {
      "provenance": []
    },
    "kernelspec": {
      "display_name": "Python 3",
      "name": "python3"
    },
    "language_info": {
      "name": "python"
    }
  },
  "nbformat": 4,
  "nbformat_minor": 0
}